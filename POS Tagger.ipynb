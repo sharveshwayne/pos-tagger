{
 "cells": [
  {
   "cell_type": "code",
   "execution_count": 2,
   "metadata": {},
   "outputs": [],
   "source": [
    "with open(\"brown.txt\",\"r\") as f:                                    # Opening corpus to split into training set and test set\n",
    "    testfile = open(\"brown-test.txt\",\"w+\")\n",
    "    trainfile = open(\"brown-train.txt\",\"w+\")\n",
    "    words = f.read()\n",
    "    count = 0\n",
    "    for word in words.split():\n",
    "        if (word == \"\\n\" or word ==\"``/``\" or word == \"''/''\"):\n",
    "            {}\n",
    "        else:\n",
    "            if(count<2000):\n",
    "                if (word == \"./.\"):\n",
    "                    count = count + 1\n",
    "                testfile.write(word)\n",
    "                testfile.write(\" \")\n",
    "            else:\n",
    "                trainfile.write(word)\n",
    "                trainfile.write(\" \")"
   ]
  },
  {
   "cell_type": "code",
   "execution_count": 3,
   "metadata": {},
   "outputs": [],
   "source": [
    "with open(\"brown-train.txt\",\"r\") as train:                    # Splitting the words and tags from the training set into seperate lists\n",
    "    temp = train.read()\n",
    "    words = temp.split()\n",
    "    tags = []\n",
    "    for i in words:\n",
    "        tags.append(i.split(\"/\")[1])"
   ]
  },
  {
   "cell_type": "code",
   "execution_count": 4,
   "metadata": {},
   "outputs": [],
   "source": [
    "f=lambda n:sorted(set(n),key=n.count)[::-1]             # Finding the most frequent word-tag combination\n",
    "result = f(words)                                       # Storing the sorted list in decending order by frequency"
   ]
  },
  {
   "cell_type": "code",
   "execution_count": 6,
   "metadata": {},
   "outputs": [],
   "source": [
    "train_list_with_tags = []                               \n",
    "word_list = []\n",
    "tag_list = []\n",
    "count = 0\n",
    "\n",
    "for i in result:\n",
    "    train_list_with_tags.append(i.split(\"/\"))                           # Creating a list of lists that contains the [word-tag] from the training set split as an element\n",
    "    word_list.append(train_list_with_tags[count][0])                    # Creating a list just for the words\n",
    "    tag_list.append(train_list_with_tags[count][1])                     # Creatng a list just for the tags\n",
    "    count = count + 1"
   ]
  },
  {
   "cell_type": "code",
   "execution_count": 7,
   "metadata": {},
   "outputs": [],
   "source": [
    "temp1 = []                                                 # Training a unitagger that contains the most frequent tag of a word\n",
    "unitagger = []\n",
    "count = 0\n",
    "for l in word_list:\n",
    "    if(l not in temp1):\n",
    "        temp1.append(l)\n",
    "        unitagger.append(train_list_with_tags[count])\n",
    "    count = count + 1"
   ]
  },
  {
   "cell_type": "code",
   "execution_count": 55,
   "metadata": {},
   "outputs": [],
   "source": [
    "with open (\"unitagger.txt\",\"w+\") as uni:                  # Writing the unitagger results to a file\n",
    "    for q in unitagger:\n",
    "        uni.write(str(q))\n",
    "        uni.write('\\n')"
   ]
  },
  {
   "cell_type": "code",
   "execution_count": 8,
   "metadata": {},
   "outputs": [],
   "source": [
    "with open (\"brown-test.txt\",\"r\") as test:                # Time for testing our unitagger on the test set\n",
    "    temp2 = test.read()\n",
    "    test = temp2.split()"
   ]
  },
  {
   "cell_type": "code",
   "execution_count": 9,
   "metadata": {},
   "outputs": [],
   "source": [
    "test_list_with_tags = []                                 # Creating a list for the test word-tag and a list for the test words alone\n",
    "test_words = []   \n",
    "count = 0\n",
    "\n",
    "for i in test:\n",
    "    test_list_with_tags.append(i.split(\"/\"))\n",
    "    test_words.append(test_list_with_tags[count][0])\n",
    "    count = count + 1"
   ]
  },
  {
   "cell_type": "code",
   "execution_count": 10,
   "metadata": {},
   "outputs": [],
   "source": [
    "test_tag = []                                          # Tagging words in the test set that our unitagger hasn't seen as 'UNK' \n",
    "for t in test_words:\n",
    "    if(t not in word_list):\n",
    "        temp3 = [t,'UNK']\n",
    "        test_tag.append(temp3)\n",
    "    else:\n",
    "        temp3 = [t,tag_list[word_list.index(t)]]\n",
    "        test_tag.append(temp3)"
   ]
  },
  {
   "cell_type": "code",
   "execution_count": 24,
   "metadata": {},
   "outputs": [],
   "source": [
    "count = 0                                             # Counting how many times the tagger predicted the correct tag\n",
    "for i in test_tag:\n",
    "    if i in test_list_with_tags:\n",
    "        count = count + 1"
   ]
  },
  {
   "cell_type": "code",
   "execution_count": 25,
   "metadata": {},
   "outputs": [],
   "source": [
    "unitagger_accuracy = count / len(test_tag) * 100     # Accuracy formula"
   ]
  },
  {
   "cell_type": "code",
   "execution_count": 26,
   "metadata": {},
   "outputs": [
    {
     "data": {
      "text/plain": [
       "93.4229209968514"
      ]
     },
     "execution_count": 26,
     "metadata": {},
     "output_type": "execute_result"
    }
   ],
   "source": [
    "unitagger_accuracy                                   # Pretty accurate for a unigram tagger which ignores the unknown words"
   ]
  },
  {
   "cell_type": "code",
   "execution_count": 15,
   "metadata": {},
   "outputs": [],
   "source": [
    "original_tags = []                                  # Creating a seperate list for the predicted and true values of the tags\n",
    "predicted_tags = []\n",
    "for i in test_list_with_tags:\n",
    "    original_tags.append(i[1])\n",
    "for i in test_tag:\n",
    "    predicted_tags.append(i[1])"
   ]
  },
  {
   "cell_type": "code",
   "execution_count": 16,
   "metadata": {},
   "outputs": [],
   "source": [
    "temp_confusion_matrix = []                          # Implementing the confusion matrix\n",
    "temp5 = []\n",
    "confusion_matrix_uni = []\n",
    "count = 0\n",
    "for i in original_tags:\n",
    "    temp = [i,predicted_tags[count]]\n",
    "    temp_confusion_matrix.append(temp)\n",
    "    count = count + 1\n",
    "temp_confusion_matrix1 = str(temp_confusion_matrix)"
   ]
  },
  {
   "cell_type": "code",
   "execution_count": 17,
   "metadata": {},
   "outputs": [],
   "source": [
    "for i in temp_confusion_matrix:\n",
    "    if i not in temp5:\n",
    "            temp5.append(i)"
   ]
  },
  {
   "cell_type": "code",
   "execution_count": 18,
   "metadata": {},
   "outputs": [],
   "source": [
    "for i in temp5:\n",
    "    temp = [i[0],i[1], temp_confusion_matrix1.count(str(i))]\n",
    "    confusion_matrix_uni.append(temp)"
   ]
  },
  {
   "cell_type": "code",
   "execution_count": 19,
   "metadata": {},
   "outputs": [],
   "source": [
    "g = lambda n:sorted(set(n),key=n.count)[::-1]                # Finding the most occuring tag in the training data\n",
    "result_tags = f(tags)"
   ]
  },
  {
   "cell_type": "code",
   "execution_count": 20,
   "metadata": {},
   "outputs": [
    {
     "data": {
      "text/plain": [
       "'nn'"
      ]
     },
     "execution_count": 20,
     "metadata": {},
     "output_type": "execute_result"
    }
   ],
   "source": [
    "result_tags[0]"
   ]
  },
  {
   "cell_type": "code",
   "execution_count": 21,
   "metadata": {},
   "outputs": [],
   "source": [
    "count = 0                                                  # Creating another two lists with contain the unknown words alone.\n",
    "total_count_of_unk = 0                                     # One list contains all the unknown words tagged as the most frequent tag in the training set\n",
    "new_tags = []                                              # The other list contains the actual tag of the unknown word\n",
    "actual_unk_tags = []\n",
    "for i in test_tag:\n",
    "    if(i[1]=='UNK'):\n",
    "        total_count_of_unk = total_count_of_unk + 1\n",
    "        temp = [i[0],result_tags[0]]\n",
    "        temp1 = [i[0], test_list_with_tags[count][1]]\n",
    "        new_tags.append(temp)\n",
    "        actual_unk_tags.append(temp1)\n",
    "    count = count + 1"
   ]
  },
  {
   "cell_type": "code",
   "execution_count": 22,
   "metadata": {},
   "outputs": [],
   "source": [
    "count = 0                                                 # Finding the accurary of our strategy of tagging unknown words\n",
    "for i in new_tags:\n",
    "    if i in actual_unk_tags:\n",
    "        count = count + 1\n",
    "accuracy_of_unk_words_uni = count / total_count_of_unk * 100"
   ]
  },
  {
   "cell_type": "code",
   "execution_count": 23,
   "metadata": {},
   "outputs": [
    {
     "data": {
      "text/plain": [
       "12.00154858691444"
      ]
     },
     "execution_count": 23,
     "metadata": {},
     "output_type": "execute_result"
    }
   ],
   "source": [
    "accuracy_of_unk_words_uni"
   ]
  },
  {
   "cell_type": "markdown",
   "metadata": {},
   "source": [
    "BIGRAM : \n",
    "\n"
   ]
  },
  {
   "cell_type": "code",
   "execution_count": 95,
   "metadata": {},
   "outputs": [],
   "source": [
    "count = 0\n",
    "bi_tag_list = []\n",
    "for tag in tags:\n",
    "    if count != len(tags)-1:\n",
    "        bi = [tags[count],tags[count+1]]\n",
    "        bi_tag_list.append(bi)\n",
    "        count = count+1"
   ]
  },
  {
   "cell_type": "code",
   "execution_count": 105,
   "metadata": {},
   "outputs": [],
   "source": [
    "unique_words =[]\n",
    "for i in words:\n",
    "    if i not in unique_words:\n",
    "        unique_words.append(i)"
   ]
  },
  {
   "cell_type": "code",
   "execution_count": 120,
   "metadata": {},
   "outputs": [],
   "source": [
    "unique_words_split = []\n",
    "for i in unique_words:\n",
    "    unique_words_split.append(i.split(\"/\"))"
   ]
  },
  {
   "cell_type": "code",
   "execution_count": 127,
   "metadata": {},
   "outputs": [],
   "source": [
    "temp5 = []\n",
    "for i in unique_words_split:\n",
    "    if(i[0] not in temp5):\n",
    "        temp5.append(i[0])    "
   ]
  },
  {
   "cell_type": "code",
   "execution_count": 130,
   "metadata": {},
   "outputs": [
    {
     "data": {
      "text/plain": [
       "64411"
      ]
     },
     "execution_count": 130,
     "metadata": {},
     "output_type": "execute_result"
    }
   ],
   "source": [
    "temp6 = []\n",
    "for i in temp5:\n",
    "    if i == unique_words_split[]"
   ]
  }
 ],
 "metadata": {
  "kernelspec": {
   "display_name": "Python 3",
   "language": "python",
   "name": "python3"
  },
  "language_info": {
   "codemirror_mode": {
    "name": "ipython",
    "version": 3
   },
   "file_extension": ".py",
   "mimetype": "text/x-python",
   "name": "python",
   "nbconvert_exporter": "python",
   "pygments_lexer": "ipython3",
   "version": "3.7.4"
  }
 },
 "nbformat": 4,
 "nbformat_minor": 2
}
